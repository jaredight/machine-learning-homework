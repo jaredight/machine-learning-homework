{
 "cells": [
  {
   "cell_type": "code",
   "execution_count": 1,
   "metadata": {},
   "outputs": [],
   "source": [
    "# import the functions/libraries you will need here\n",
    "import math\n",
    "import pandas as pd\n",
    "import numpy as np\n",
    "import statistics\n",
    "from matplotlib import pyplot as plt"
   ]
  },
  {
   "cell_type": "markdown",
   "metadata": {},
   "source": [
    "### 1  \n",
    "$(a)$ Using the list defined below called `a`. Print each of the elements that have a value less than 10"
   ]
  },
  {
   "cell_type": "code",
   "execution_count": 2,
   "metadata": {},
   "outputs": [
    {
     "name": "stdout",
     "output_type": "stream",
     "text": [
      "1\n",
      "1\n",
      "2\n",
      "3\n",
      "5\n",
      "8\n"
     ]
    }
   ],
   "source": [
    "a=[1,1,2,3,5,8, 13, 21, 34, 55, 89]\n",
    "for item in a:\n",
    "  if item < 10:\n",
    "    print(item)"
   ]
  },
  {
   "cell_type": "markdown",
   "metadata": {},
   "source": [
    "$(b)$ Now using the same list `a` create a new list named `b` that contains all of the values greater than or equal to 10"
   ]
  },
  {
   "cell_type": "code",
   "execution_count": 3,
   "metadata": {},
   "outputs": [
    {
     "name": "stdout",
     "output_type": "stream",
     "text": [
      "[13, 21, 34, 55, 89]\n"
     ]
    }
   ],
   "source": [
    "b = []\n",
    "for i in a:\n",
    "    if i > 10:\n",
    "        b.append(i)\n",
    "        \n",
    "print(b)"
   ]
  },
  {
   "cell_type": "markdown",
   "metadata": {},
   "source": [
    "$(c)$ Now define functions that will perform the processes decribed in $a$ and $b$ that can take any list of integers as an input"
   ]
  },
  {
   "cell_type": "code",
   "execution_count": 4,
   "metadata": {},
   "outputs": [
    {
     "name": "stdout",
     "output_type": "stream",
     "text": [
      "1\n",
      "1\n",
      "2\n",
      "3\n",
      "5\n",
      "8\n"
     ]
    },
    {
     "data": {
      "text/plain": [
       "[13, 21, 34, 55, 89]"
      ]
     },
     "execution_count": 4,
     "metadata": {},
     "output_type": "execute_result"
    }
   ],
   "source": [
    "def print_small_nums(my_list):\n",
    "    for item in my_list:\n",
    "        if item < 10:\n",
    "            print(item)\n",
    "            \n",
    "def list_large_nums(my_list):\n",
    "    new_list = []\n",
    "    for i in my_list:\n",
    "        if i > 10:\n",
    "            new_list.append(i)\n",
    "    return new_list\n",
    "            \n",
    "print_small_nums(a)\n",
    "list_large_nums(a)"
   ]
  },
  {
   "cell_type": "markdown",
   "metadata": {},
   "source": [
    "$(d)$ Using the list of lists called `c` defined below. Make a new list that contains all of the numbers between 5 and 45 that appear in the list."
   ]
  },
  {
   "cell_type": "code",
   "execution_count": 5,
   "metadata": {},
   "outputs": [
    {
     "data": {
      "text/plain": [
       "[12, 7, 23, 12, 17, 43, 9]"
      ]
     },
     "execution_count": 5,
     "metadata": {},
     "output_type": "execute_result"
    }
   ],
   "source": [
    "c = [[1,1,12],[2,3,7,23],[54,12,17,90],[43,52,67,9]]\n",
    "\n",
    "short_list = []\n",
    "for x in c:\n",
    "    for y in x:\n",
    "        if 5 < y < 45:\n",
    "            short_list.append(y)\n",
    "short_list"
   ]
  },
  {
   "cell_type": "markdown",
   "metadata": {},
   "source": [
    "$(e)$ Define a function that will do the process in $d$ for any given list of lists of integers"
   ]
  },
  {
   "cell_type": "code",
   "execution_count": 6,
   "metadata": {},
   "outputs": [
    {
     "data": {
      "text/plain": [
       "[12, 7, 23, 12, 17, 43, 9]"
      ]
     },
     "execution_count": 6,
     "metadata": {},
     "output_type": "execute_result"
    }
   ],
   "source": [
    "def process_d(list_of_lists):\n",
    "    j = []\n",
    "    for x in list_of_lists:\n",
    "        for y in x:\n",
    "            if 5 < y < 45:\n",
    "                j.append(y)\n",
    "    return j\n",
    "\n",
    "process_d(c)"
   ]
  },
  {
   "cell_type": "markdown",
   "metadata": {},
   "source": [
    "$(f)$ Define a function that takes a list of integers and prints the cumulative sum of the elements that are greater than or equal to 10. You should be able to use a function you made previously to help if you wish."
   ]
  },
  {
   "cell_type": "code",
   "execution_count": 7,
   "metadata": {},
   "outputs": [
    {
     "name": "stdout",
     "output_type": "stream",
     "text": [
      "12\n",
      "35\n",
      "47\n",
      "64\n",
      "107\n"
     ]
    }
   ],
   "source": [
    "def sum_large_nums(input_list):\n",
    "    l_nums = list_large_nums(input_list)\n",
    "    cumulative_sum = 0\n",
    "    for i in l_nums:\n",
    "        cumulative_sum += i\n",
    "        print(cumulative_sum)\n",
    "        \n",
    "sum_large_nums(short_list)\n",
    "        "
   ]
  },
  {
   "cell_type": "markdown",
   "metadata": {},
   "source": [
    "$(g)$ Define a function that takes a list of integers and returns a list of the running average of the numbers in the list that are in between 5 and 45 inclusive."
   ]
  },
  {
   "cell_type": "code",
   "execution_count": 8,
   "metadata": {},
   "outputs": [
    {
     "data": {
      "text/plain": [
       "[12, 9.5, 14, 13.5, 14.2, 19, 17.571428571428573]"
      ]
     },
     "execution_count": 8,
     "metadata": {},
     "output_type": "execute_result"
    }
   ],
   "source": [
    "def running_avg(y):\n",
    "    z =[]\n",
    "    r_avg = []\n",
    "    for x in y:\n",
    "        if 5 <= x <= 45:\n",
    "            z.append(x)\n",
    "            r_avg.append(statistics.mean(z))\n",
    "    return r_avg\n",
    "\n",
    "running_avg(short_list)"
   ]
  },
  {
   "cell_type": "markdown",
   "metadata": {},
   "source": [
    "### 2\n",
    "Based on excercise 12 chapter 4 in ISLR.  \n",
    "$(a)$ write a function called `power` that raises the input to 3rd power. Use the function to calculate $10^3$ "
   ]
  },
  {
   "cell_type": "code",
   "execution_count": 9,
   "metadata": {},
   "outputs": [
    {
     "data": {
      "text/plain": [
       "1000"
      ]
     },
     "execution_count": 9,
     "metadata": {},
     "output_type": "execute_result"
    }
   ],
   "source": [
    "def power(base):\n",
    "    return base*base*base\n",
    "\n",
    "power(10)"
   ]
  },
  {
   "cell_type": "markdown",
   "metadata": {},
   "source": [
    "$(b)$ write a function called `power2` that takes two inputs and raises the first number to the power of the second number. Use this function to calculate $10^3$, $8^{17}$ and $131^3$"
   ]
  },
  {
   "cell_type": "code",
   "execution_count": 10,
   "metadata": {},
   "outputs": [
    {
     "name": "stdout",
     "output_type": "stream",
     "text": [
      "1000\n",
      "2251799813685248\n",
      "2248091\n"
     ]
    }
   ],
   "source": [
    "def power2(base, exponent):\n",
    "    j = base**exponent\n",
    "    return j\n",
    "\n",
    "print(power2(10,3))\n",
    "print(power2(8,17))\n",
    "print(power2(131,3))\n",
    "        "
   ]
  },
  {
   "cell_type": "markdown",
   "metadata": {},
   "source": [
    "$(c)$ Create lists of values of squared and cubed vlaues of integers from 1 to 5 using your functions. You can use loops or list comprehensions to do this. Plot the lists you created. You can use the code below to import a common plotting package. \n",
    "```python\n",
    "from matplotlib import pyplot as plt\n",
    "```\n",
    "`plt.plot` and `plt.legend` will likely come in handy"
   ]
  },
  {
   "cell_type": "code",
   "execution_count": 11,
   "metadata": {
    "scrolled": false
   },
   "outputs": [
    {
     "name": "stdout",
     "output_type": "stream",
     "text": [
      "[1, 4, 9, 16, 25]\n",
      "[1, 8, 27, 64, 125]\n"
     ]
    },
    {
     "data": {
      "image/png": "[encoded data removed]",
      "text/plain": [
       "<Figure size 432x288 with 1 Axes>"
      ]
     },
     "metadata": {
      "needs_background": "light"
     },
     "output_type": "display_data"
    }
   ],
   "source": [
    "list1 = [x for x in range(1,6)]\n",
    "list2 = [power2(x,2) for x in range(1,6)]\n",
    "list3 = [power(x) for x in range(1,6)]\n",
    "print(list2)\n",
    "print(list3)\n",
    "def make_plot(show_legend = False):\n",
    "    plt.plot(list1, list2, color ='tab:red', label = 'red')\n",
    "    plt.plot(list1, list3, color ='tab:blue', label = 'blue')\n",
    "    if (show_legend):\n",
    "        plt.legend(['x^2', 'x^3'])\n",
    "    plt.show()\n",
    "\n",
    "make_plot()"
   ]
  },
  {
   "cell_type": "markdown",
   "metadata": {},
   "source": [
    "$(d)$ Add a legend to the plot that shows which color corresponds to the power"
   ]
  },
  {
   "cell_type": "code",
   "execution_count": 12,
   "metadata": {},
   "outputs": [
    {
     "data": {
      "image/png": "[encoded data removed]",
      "text/plain": [
       "<Figure size 432x288 with 1 Axes>"
      ]
     },
     "metadata": {
      "needs_background": "light"
     },
     "output_type": "display_data"
    }
   ],
   "source": [
    "make_plot(True)\n"
   ]
  },
  {
   "cell_type": "markdown",
   "metadata": {},
   "source": [
    "$(e)$ create a function called `plot_power` that creates a plot for a range of values that are given as an argument raised to the integer power given. A function call should look something like this `plot_power(low,high,power)` feel free to use different variable names for inputs."
   ]
  },
  {
   "cell_type": "code",
   "execution_count": 13,
   "metadata": {},
   "outputs": [
    {
     "data": {
      "image/png": "[encoded data removed]",
      "text/plain": [
       "<Figure size 432x288 with 1 Axes>"
      ]
     },
     "metadata": {
      "needs_background": "light"
     },
     "output_type": "display_data"
    }
   ],
   "source": [
    "def plot_power(low,high,power):\n",
    "    x_axis = [x for x in range(low, high)]\n",
    "    y_axis = [power2(x,power) for x in range(low,high)]\n",
    "    plt.plot(x_axis, y_axis, label = f'x^{power}')\n",
    "    #plt.legend([f'x^{power}'])\n",
    "    #plt.show()\n",
    "    \n",
    "plot_power(7,25,4)"
   ]
  },
  {
   "cell_type": "markdown",
   "metadata": {},
   "source": [
    "$(f)$ Define a function called `display_power_plots` that plots multiple powers based on a list of them passed as an argument over a range passed in similarly to the one above. Add a legend that shows which curve corresponds to which power. A function call should something look like this `display_power_plots(low,high,[p1,p2,p3])`"
   ]
  },
  {
   "cell_type": "code",
   "execution_count": 14,
   "metadata": {},
   "outputs": [
    {
     "data": {
      "image/png": "[encoded data removed]",
      "text/plain": [
       "<Figure size 432x288 with 1 Axes>"
      ]
     },
     "metadata": {
      "needs_background": "light"
     },
     "output_type": "display_data"
    }
   ],
   "source": [
    "def display_power_plots(low,high,power_list):\n",
    "    for i in power_list:\n",
    "        plot_power(low,high,i)\n",
    "        plt.legend()\n",
    "        \n",
    "display_power_plots(7,25,[3,4,5])"
   ]
  },
  {
   "cell_type": "markdown",
   "metadata": {},
   "source": [
    "### 3\n",
    "I have read the accompanying file name python_intro (yes or no)"
   ]
  },
  {
   "cell_type": "markdown",
   "metadata": {},
   "source": [
    "yes"
   ]
  },
  {
   "cell_type": "markdown",
   "metadata": {},
   "source": [
    "### 4\n",
    "\n",
    "Thanks to Karl Diether in the Finance Department for this section\n",
    "\n",
    "**Pandas**\n",
    "\n",
    "Pandas is a data manipulation library in python. Some of the aspects we will use in thsi course are listed below\n",
    "\n",
    "1. *Pandas core data structures*: the `DataFrame` and `Series`. Understanding that dataframes store mixed type data (strings, integers, floating point, etc) in a rectangular array. Understanding how to call methods (functions available to the datframe such as `mean`, `describe`, or `shift`), and access the dataframe's attributes (i.e. the underlying data) <br><br>\n",
    "\n",
    "2. *Getting data into DataFrames*. Getting data into a `Pandas'` dataframe is usually straight forward and easy. Pandas easily reads many different data formats: csv files, Excel files, SAS data files, Stata data files, etc. In this class, we will mainly read data in form csv files. Still, I will cover other methods. In addition, you will learn how to create `dataframes` from more primitive python datatypes: `lists`, `dictonaries`, and numpy arrays.<br><br>\n",
    "\n",
    "3. *Data creation.* How to create new columns in a dataframe based on a existing column (e.g, computing the log of a column and storing the result as a new column).<br><br>\n",
    "\n",
    "4. *Data selection*. You will learn how to select only the rows or columns of a `dataframe` that you need for your analysis. For example, how to remove missing values, or select only observations where the lagged price is greater than \\$5<br><br>\n",
    "\n",
    "5. *Merging data*. You will learn how to merge dataframes together based on a single key or multiple keys. Furthermore, we will explore the set logic if different merge types: 'left', 'right', 'inner', and 'outer' merges.<br><br>\n",
    "\n",
    "\n",
    "**II. Why Python/Pandas?**\n",
    "\n",
    "Why Python/Pandas? Why not Stata, R, or SAS? Certainly, each of those languages are used in empirical finance research. I think there are some important advantages to using `Python/Pandas`. One of the important reasons is that Python is a well designed a popular general purpose programming language. I think this makes Python/Pandas relatively easily to learn. I also think it provide `Pandas` with a more elegant syntax than the other languages (but that's obviously a subjective judgment on my part). Additionally, I think this general purpose base yields a side benefit to you. Specifically, learning a general purpose programming language has potentially large benefits for you even if you don't decide to pursue a PhD in Finance. Python is used in lots of different domains; it's not narrowly confined to the domain of quantitative finance or even scientific computing or data science.\n",
    "\n",
    "The main purpose of this `Jupyter` `notebook` is to introduce the `Pandas` `library` (the most important library for this course) and the `dataframe` (the main data object we rely on do to empirical work in the course). A secondary purpose of this notebook is to briefly show off the high level nature of `Pandas`; by high level, I mean you can get a lot done with a only a few commands.\n",
    "\n",
    "\n",
    "**III. Introducing the Dataframe**\n",
    "\n",
    "What does `Pandas'` provide that helps with data analysis? The core object Pandas' provides is a container for holding rectangular array of mixed type data called a **dataframe**. You can think of a dataframe as the programming equivalent of a spreadsheet. The `dataframe` contains rows and columns of data where each column can be a different fundamental datatype: integers, floats, imaginary numbers, or strings. Analogous to a spreadsheet, Pandas' provides programmers with many ways to create new data, transform and combine data, aggregate data, or display data. For example, Pandas' has a built in operator (it's the standard division symbol, `/`) that allows one to divide one column into the other element by element. It also has much higher level functions that, for example, allow us to easily create graphs or plots of data. Many of these functions are built into the dataframe (these built in functions are typically called `methods` or `member` `functions` in the parlance of object oriented programming). So a dataframe isn't just a container for data; it also holds many functions that allow us to perform data analysis. That's why a dataframe is considering an object; it holds mix type data and it provides functions (methods) that allow us to manipulate, transform, and analyze data. The data an object can store, and the functions that can operate on the data define the object's identity (a dataframe in this case).\n",
    "\n",
    "**II. Accessing the Pandas Library**\n",
    "\n",
    "To use Pandas we have to tell Python that we want access to it. This is accomplished with Python's `import` command. As part of the import command I will also give the `Pandas` `library` a namespace. It's convention to use `pd` as the namespace (you can use a different name than `pd` but `pd` is a really strong convention for Pandas in the Python world ... most people will think you're weird if you use any other namespace convention). Given the `pd` namespace, Pandas' functions that we call will take the following form: `pd.function` (for example, `pd.read_csv`). Using namespaces is a good programming practice (habit) because it keeps your code tidier. It's makes it clearer what library a certain function or command comes from if each library you use has it's own namespace. "
   ]
  },
  {
   "cell_type": "code",
   "execution_count": 15,
   "metadata": {},
   "outputs": [],
   "source": [
    "import pandas as pd"
   ]
  },
  {
   "cell_type": "markdown",
   "metadata": {},
   "source": [
    "**III. Reading in the data and creating a `dataframe`**\n",
    "\n",
    "Let's read in some data, and create a `dataframe` object. The data we wish to read into a `dataframe` are annual balance sheet data from Amazon. The data are in a csv file so we can read in the data using the `read_csv` function. The `read_csv` function will automatically create a `dataframe` object containing the data from the csv file. The `read_csv` function has a lot of options and flexibility (take a look at the [help page for it in Pandas' documentation](https://pandas.pydata.org/pandas-docs/stable/generated/pandas.read_csv.html)), but often you don't use any of them (particularly for well formed or non-messy csv files). Pandas can read many different datafile formats (e.g., Excel, SAS, SQL, and Stata), but in this class we will mainly work with csv files. Note, the csv file is actually stored on a web server. The `read_csv` function in `pandas`, of course, reads files stored on your local machine, but it also has no trouble reading file stored remotely; you just need to provide a URL."
   ]
  },
  {
   "cell_type": "code",
   "execution_count": 16,
   "metadata": {},
   "outputs": [],
   "source": [
    "df = pd.read_csv('http://diether.org/prephd/01-amazon.csv')"
   ]
  },
  {
   "cell_type": "markdown",
   "metadata": {},
   "source": [
    "Note (1): To read in data from non-csv formats you generally invoke a command very similar to `read_csv`. For example, you can read in a `Stata` datafile using the following:\n",
    "```python\n",
    "df = pandas.read_stata('filename.dta')\n",
    "```\n",
    "\n",
    "Note (2): There are many other ways to create dataframes. For example, you can convert core Python data structures (like `lists` or `dictionaries`) into `dataframes`. "
   ]
  },
  {
   "cell_type": "markdown",
   "metadata": {},
   "source": [
    "**a. Displaying the data in a dataframe**\n",
    "\n",
    "The **Jupyter notebook** is a special environment where if you type the name of a dataframe (or other datatypes), it will display the default view of that object (e.g., if the dataframe is small it will display all the data in the dataframe, and if it's large only a truncated view of the data will be displayed). If you just write a python program and run it, then you need to use the `print` function to see any output."
   ]
  },
  {
   "cell_type": "code",
   "execution_count": 17,
   "metadata": {},
   "outputs": [
    {
     "data": {
      "text/html": [
       "<div>\n",
       "<style scoped>\n",
       "    .dataframe tbody tr th:only-of-type {\n",
       "        vertical-align: middle;\n",
       "    }\n",
       "\n",
       "    .dataframe tbody tr th {\n",
       "        vertical-align: top;\n",
       "    }\n",
       "\n",
       "    .dataframe thead th {\n",
       "        text-align: right;\n",
       "    }\n",
       "</style>\n",
       "<table border=\"1\" class=\"dataframe\">\n",
       "  <thead>\n",
       "    <tr style=\"text-align: right;\">\n",
       "      <th></th>\n",
       "      <th>tick</th>\n",
       "      <th>year</th>\n",
       "      <th>revenue</th>\n",
       "      <th>ebit</th>\n",
       "      <th>capx</th>\n",
       "      <th>debt</th>\n",
       "      <th>mktcap</th>\n",
       "    </tr>\n",
       "  </thead>\n",
       "  <tbody>\n",
       "    <tr>\n",
       "      <td>0</td>\n",
       "      <td>AMZN</td>\n",
       "      <td>1998</td>\n",
       "      <td>609.996</td>\n",
       "      <td>-104.388</td>\n",
       "      <td>28.333</td>\n",
       "      <td>348.140</td>\n",
       "      <td>16950.113750</td>\n",
       "    </tr>\n",
       "    <tr>\n",
       "      <td>1</td>\n",
       "      <td>AMZN</td>\n",
       "      <td>1999</td>\n",
       "      <td>1639.839</td>\n",
       "      <td>-597.683</td>\n",
       "      <td>287.055</td>\n",
       "      <td>1466.338</td>\n",
       "      <td>25942.410375</td>\n",
       "    </tr>\n",
       "    <tr>\n",
       "      <td>2</td>\n",
       "      <td>AMZN</td>\n",
       "      <td>2000</td>\n",
       "      <td>2761.983</td>\n",
       "      <td>-663.569</td>\n",
       "      <td>134.758</td>\n",
       "      <td>2127.464</td>\n",
       "      <td>5557.991250</td>\n",
       "    </tr>\n",
       "    <tr>\n",
       "      <td>3</td>\n",
       "      <td>AMZN</td>\n",
       "      <td>2001</td>\n",
       "      <td>3122.433</td>\n",
       "      <td>-230.672</td>\n",
       "      <td>50.321</td>\n",
       "      <td>2156.133</td>\n",
       "      <td>4038.218760</td>\n",
       "    </tr>\n",
       "    <tr>\n",
       "      <td>4</td>\n",
       "      <td>AMZN</td>\n",
       "      <td>2002</td>\n",
       "      <td>3932.936</td>\n",
       "      <td>105.697</td>\n",
       "      <td>39.163</td>\n",
       "      <td>2245.691</td>\n",
       "      <td>7327.544340</td>\n",
       "    </tr>\n",
       "    <tr>\n",
       "      <td>5</td>\n",
       "      <td>AMZN</td>\n",
       "      <td>2003</td>\n",
       "      <td>5263.699</td>\n",
       "      <td>270.735</td>\n",
       "      <td>45.963</td>\n",
       "      <td>1925.373</td>\n",
       "      <td>21224.487480</td>\n",
       "    </tr>\n",
       "    <tr>\n",
       "      <td>6</td>\n",
       "      <td>AMZN</td>\n",
       "      <td>2004</td>\n",
       "      <td>6921.124</td>\n",
       "      <td>431.378</td>\n",
       "      <td>89.133</td>\n",
       "      <td>1847.397</td>\n",
       "      <td>18146.100190</td>\n",
       "    </tr>\n",
       "    <tr>\n",
       "      <td>7</td>\n",
       "      <td>AMZN</td>\n",
       "      <td>2005</td>\n",
       "      <td>8490.000</td>\n",
       "      <td>465.000</td>\n",
       "      <td>204.000</td>\n",
       "      <td>1521.000</td>\n",
       "      <td>19614.400000</td>\n",
       "    </tr>\n",
       "    <tr>\n",
       "      <td>8</td>\n",
       "      <td>AMZN</td>\n",
       "      <td>2006</td>\n",
       "      <td>10711.000</td>\n",
       "      <td>409.000</td>\n",
       "      <td>216.000</td>\n",
       "      <td>1267.000</td>\n",
       "      <td>16336.440000</td>\n",
       "    </tr>\n",
       "    <tr>\n",
       "      <td>9</td>\n",
       "      <td>AMZN</td>\n",
       "      <td>2007</td>\n",
       "      <td>14835.000</td>\n",
       "      <td>655.000</td>\n",
       "      <td>224.000</td>\n",
       "      <td>1344.000</td>\n",
       "      <td>38538.240000</td>\n",
       "    </tr>\n",
       "    <tr>\n",
       "      <td>10</td>\n",
       "      <td>AMZN</td>\n",
       "      <td>2008</td>\n",
       "      <td>19166.000</td>\n",
       "      <td>789.000</td>\n",
       "      <td>333.000</td>\n",
       "      <td>533.000</td>\n",
       "      <td>21947.840000</td>\n",
       "    </tr>\n",
       "    <tr>\n",
       "      <td>11</td>\n",
       "      <td>AMZN</td>\n",
       "      <td>2009</td>\n",
       "      <td>24509.000</td>\n",
       "      <td>1183.000</td>\n",
       "      <td>373.000</td>\n",
       "      <td>252.000</td>\n",
       "      <td>59726.880000</td>\n",
       "    </tr>\n",
       "    <tr>\n",
       "      <td>12</td>\n",
       "      <td>AMZN</td>\n",
       "      <td>2010</td>\n",
       "      <td>34204.000</td>\n",
       "      <td>1407.000</td>\n",
       "      <td>979.000</td>\n",
       "      <td>641.000</td>\n",
       "      <td>81180.000000</td>\n",
       "    </tr>\n",
       "    <tr>\n",
       "      <td>13</td>\n",
       "      <td>AMZN</td>\n",
       "      <td>2011</td>\n",
       "      <td>48077.000</td>\n",
       "      <td>867.000</td>\n",
       "      <td>1811.000</td>\n",
       "      <td>1415.000</td>\n",
       "      <td>78760.504550</td>\n",
       "    </tr>\n",
       "    <tr>\n",
       "      <td>14</td>\n",
       "      <td>AMZN</td>\n",
       "      <td>2012</td>\n",
       "      <td>61093.000</td>\n",
       "      <td>672.000</td>\n",
       "      <td>3785.000</td>\n",
       "      <td>3830.000</td>\n",
       "      <td>113894.980000</td>\n",
       "    </tr>\n",
       "    <tr>\n",
       "      <td>15</td>\n",
       "      <td>AMZN</td>\n",
       "      <td>2013</td>\n",
       "      <td>74452.000</td>\n",
       "      <td>691.000</td>\n",
       "      <td>3444.000</td>\n",
       "      <td>5181.000</td>\n",
       "      <td>183044.614590</td>\n",
       "    </tr>\n",
       "    <tr>\n",
       "      <td>16</td>\n",
       "      <td>AMZN</td>\n",
       "      <td>2014</td>\n",
       "      <td>88988.000</td>\n",
       "      <td>130.000</td>\n",
       "      <td>4893.000</td>\n",
       "      <td>12489.000</td>\n",
       "      <td>144121.579044</td>\n",
       "    </tr>\n",
       "    <tr>\n",
       "      <td>17</td>\n",
       "      <td>AMZN</td>\n",
       "      <td>2015</td>\n",
       "      <td>107006.000</td>\n",
       "      <td>2176.000</td>\n",
       "      <td>4589.000</td>\n",
       "      <td>14183.000</td>\n",
       "      <td>318344.194710</td>\n",
       "    </tr>\n",
       "    <tr>\n",
       "      <td>18</td>\n",
       "      <td>AMZN</td>\n",
       "      <td>2016</td>\n",
       "      <td>135987.000</td>\n",
       "      <td>4066.000</td>\n",
       "      <td>6737.000</td>\n",
       "      <td>15213.000</td>\n",
       "      <td>357687.990000</td>\n",
       "    </tr>\n",
       "    <tr>\n",
       "      <td>19</td>\n",
       "      <td>AMZN</td>\n",
       "      <td>2017</td>\n",
       "      <td>177866.000</td>\n",
       "      <td>3954.000</td>\n",
       "      <td>11955.000</td>\n",
       "      <td>37926.000</td>\n",
       "      <td>563534.833384</td>\n",
       "    </tr>\n",
       "    <tr>\n",
       "      <td>20</td>\n",
       "      <td>AMZN</td>\n",
       "      <td>2018</td>\n",
       "      <td>232887.000</td>\n",
       "      <td>12242.000</td>\n",
       "      <td>13427.000</td>\n",
       "      <td>39787.000</td>\n",
       "      <td>734416.754261</td>\n",
       "    </tr>\n",
       "    <tr>\n",
       "      <td>21</td>\n",
       "      <td>AMZN</td>\n",
       "      <td>2019</td>\n",
       "      <td>280522.000</td>\n",
       "      <td>14177.000</td>\n",
       "      <td>16861.000</td>\n",
       "      <td>63205.000</td>\n",
       "      <td>920224.305060</td>\n",
       "    </tr>\n",
       "  </tbody>\n",
       "</table>\n",
       "</div>"
      ],
      "text/plain": [
       "    tick  year     revenue       ebit       capx       debt         mktcap\n",
       "0   AMZN  1998     609.996   -104.388     28.333    348.140   16950.113750\n",
       "1   AMZN  1999    1639.839   -597.683    287.055   1466.338   25942.410375\n",
       "2   AMZN  2000    2761.983   -663.569    134.758   2127.464    5557.991250\n",
       "3   AMZN  2001    3122.433   -230.672     50.321   2156.133    4038.218760\n",
       "4   AMZN  2002    3932.936    105.697     39.163   2245.691    7327.544340\n",
       "5   AMZN  2003    5263.699    270.735     45.963   1925.373   21224.487480\n",
       "6   AMZN  2004    6921.124    431.378     89.133   1847.397   18146.100190\n",
       "7   AMZN  2005    8490.000    465.000    204.000   1521.000   19614.400000\n",
       "8   AMZN  2006   10711.000    409.000    216.000   1267.000   16336.440000\n",
       "9   AMZN  2007   14835.000    655.000    224.000   1344.000   38538.240000\n",
       "10  AMZN  2008   19166.000    789.000    333.000    533.000   21947.840000\n",
       "11  AMZN  2009   24509.000   1183.000    373.000    252.000   59726.880000\n",
       "12  AMZN  2010   34204.000   1407.000    979.000    641.000   81180.000000\n",
       "13  AMZN  2011   48077.000    867.000   1811.000   1415.000   78760.504550\n",
       "14  AMZN  2012   61093.000    672.000   3785.000   3830.000  113894.980000\n",
       "15  AMZN  2013   74452.000    691.000   3444.000   5181.000  183044.614590\n",
       "16  AMZN  2014   88988.000    130.000   4893.000  12489.000  144121.579044\n",
       "17  AMZN  2015  107006.000   2176.000   4589.000  14183.000  318344.194710\n",
       "18  AMZN  2016  135987.000   4066.000   6737.000  15213.000  357687.990000\n",
       "19  AMZN  2017  177866.000   3954.000  11955.000  37926.000  563534.833384\n",
       "20  AMZN  2018  232887.000  12242.000  13427.000  39787.000  734416.754261\n",
       "21  AMZN  2019  280522.000  14177.000  16861.000  63205.000  920224.305060"
      ]
     },
     "execution_count": 17,
     "metadata": {},
     "output_type": "execute_result"
    }
   ],
   "source": [
    "df"
   ]
  },
  {
   "cell_type": "markdown",
   "metadata": {},
   "source": [
    "Or we can use an explicit print command:"
   ]
  },
  {
   "cell_type": "code",
   "execution_count": 18,
   "metadata": {},
   "outputs": [
    {
     "name": "stdout",
     "output_type": "stream",
     "text": [
      "    tick  year     revenue       ebit       capx       debt         mktcap\n",
      "0   AMZN  1998     609.996   -104.388     28.333    348.140   16950.113750\n",
      "1   AMZN  1999    1639.839   -597.683    287.055   1466.338   25942.410375\n",
      "2   AMZN  2000    2761.983   -663.569    134.758   2127.464    5557.991250\n",
      "3   AMZN  2001    3122.433   -230.672     50.321   2156.133    4038.218760\n",
      "4   AMZN  2002    3932.936    105.697     39.163   2245.691    7327.544340\n",
      "5   AMZN  2003    5263.699    270.735     45.963   1925.373   21224.487480\n",
      "6   AMZN  2004    6921.124    431.378     89.133   1847.397   18146.100190\n",
      "7   AMZN  2005    8490.000    465.000    204.000   1521.000   19614.400000\n",
      "8   AMZN  2006   10711.000    409.000    216.000   1267.000   16336.440000\n",
      "9   AMZN  2007   14835.000    655.000    224.000   1344.000   38538.240000\n",
      "10  AMZN  2008   19166.000    789.000    333.000    533.000   21947.840000\n",
      "11  AMZN  2009   24509.000   1183.000    373.000    252.000   59726.880000\n",
      "12  AMZN  2010   34204.000   1407.000    979.000    641.000   81180.000000\n",
      "13  AMZN  2011   48077.000    867.000   1811.000   1415.000   78760.504550\n",
      "14  AMZN  2012   61093.000    672.000   3785.000   3830.000  113894.980000\n",
      "15  AMZN  2013   74452.000    691.000   3444.000   5181.000  183044.614590\n",
      "16  AMZN  2014   88988.000    130.000   4893.000  12489.000  144121.579044\n",
      "17  AMZN  2015  107006.000   2176.000   4589.000  14183.000  318344.194710\n",
      "18  AMZN  2016  135987.000   4066.000   6737.000  15213.000  357687.990000\n",
      "19  AMZN  2017  177866.000   3954.000  11955.000  37926.000  563534.833384\n",
      "20  AMZN  2018  232887.000  12242.000  13427.000  39787.000  734416.754261\n",
      "21  AMZN  2019  280522.000  14177.000  16861.000  63205.000  920224.305060\n"
     ]
    }
   ],
   "source": [
    "print(df)"
   ]
  },
  {
   "cell_type": "markdown",
   "metadata": {},
   "source": [
    "**b. Dataframes and Series**\n",
    "\n",
    "Our `dataframe` is called `df`, but if we select a column from the `dataframe` it will be of type `Series`. `Dataframes` and `Series` behave very similarly; for our purposes, it will mostly just be a technical distinction between a one dimensional and two dimensional array.\n",
    "\n",
    "Note (1): we can select a column of a dataframe (a Series) by wrapping the column's name in quotes. For example,\n",
    "```python\n",
    "df['sales']\n",
    "```\n",
    "\n",
    "Note (2): you typically must wrap the column's name in ' ' because most column names are stored as strings. You will need to reference columns this way as long as the variable names you use aren't entirely numeric (e.g., an integer). In Python (and nearly every other general purpose programming language) strings are always delimited by either single or double quotes. In `Python` you can use either single (' ') or double (\" \") quotes.  \n",
    "\n",
    "Note (3):  In Python, there is a `type` function that returns the type of a variable or object. "
   ]
  },
  {
   "cell_type": "code",
   "execution_count": 19,
   "metadata": {},
   "outputs": [
    {
     "data": {
      "text/plain": [
       "Index(['tick', 'year', 'revenue', 'ebit', 'capx', 'debt', 'mktcap'], dtype='object')"
      ]
     },
     "execution_count": 19,
     "metadata": {},
     "output_type": "execute_result"
    }
   ],
   "source": [
    "# the columns attribute of the dataframe has all of the column names\\\n",
    "df.columns"
   ]
  },
  {
   "cell_type": "code",
   "execution_count": 20,
   "metadata": {},
   "outputs": [
    {
     "data": {
      "text/plain": [
       "0     AMZN\n",
       "1     AMZN\n",
       "2     AMZN\n",
       "3     AMZN\n",
       "4     AMZN\n",
       "5     AMZN\n",
       "6     AMZN\n",
       "7     AMZN\n",
       "8     AMZN\n",
       "9     AMZN\n",
       "10    AMZN\n",
       "11    AMZN\n",
       "12    AMZN\n",
       "13    AMZN\n",
       "14    AMZN\n",
       "15    AMZN\n",
       "16    AMZN\n",
       "17    AMZN\n",
       "18    AMZN\n",
       "19    AMZN\n",
       "20    AMZN\n",
       "21    AMZN\n",
       "Name: tick, dtype: object"
      ]
     },
     "execution_count": 20,
     "metadata": {},
     "output_type": "execute_result"
    }
   ],
   "source": [
    "# try selecting a column\\\n",
    "df['tick']"
   ]
  },
  {
   "cell_type": "code",
   "execution_count": 21,
   "metadata": {},
   "outputs": [
    {
     "data": {
      "text/html": [
       "<div>\n",
       "<style scoped>\n",
       "    .dataframe tbody tr th:only-of-type {\n",
       "        vertical-align: middle;\n",
       "    }\n",
       "\n",
       "    .dataframe tbody tr th {\n",
       "        vertical-align: top;\n",
       "    }\n",
       "\n",
       "    .dataframe thead th {\n",
       "        text-align: right;\n",
       "    }\n",
       "</style>\n",
       "<table border=\"1\" class=\"dataframe\">\n",
       "  <thead>\n",
       "    <tr style=\"text-align: right;\">\n",
       "      <th></th>\n",
       "      <th>tick</th>\n",
       "      <th>revenue</th>\n",
       "      <th>ebit</th>\n",
       "    </tr>\n",
       "  </thead>\n",
       "  <tbody>\n",
       "    <tr>\n",
       "      <td>0</td>\n",
       "      <td>AMZN</td>\n",
       "      <td>609.996</td>\n",
       "      <td>-104.388</td>\n",
       "    </tr>\n",
       "    <tr>\n",
       "      <td>1</td>\n",
       "      <td>AMZN</td>\n",
       "      <td>1639.839</td>\n",
       "      <td>-597.683</td>\n",
       "    </tr>\n",
       "    <tr>\n",
       "      <td>2</td>\n",
       "      <td>AMZN</td>\n",
       "      <td>2761.983</td>\n",
       "      <td>-663.569</td>\n",
       "    </tr>\n",
       "    <tr>\n",
       "      <td>3</td>\n",
       "      <td>AMZN</td>\n",
       "      <td>3122.433</td>\n",
       "      <td>-230.672</td>\n",
       "    </tr>\n",
       "    <tr>\n",
       "      <td>4</td>\n",
       "      <td>AMZN</td>\n",
       "      <td>3932.936</td>\n",
       "      <td>105.697</td>\n",
       "    </tr>\n",
       "    <tr>\n",
       "      <td>5</td>\n",
       "      <td>AMZN</td>\n",
       "      <td>5263.699</td>\n",
       "      <td>270.735</td>\n",
       "    </tr>\n",
       "    <tr>\n",
       "      <td>6</td>\n",
       "      <td>AMZN</td>\n",
       "      <td>6921.124</td>\n",
       "      <td>431.378</td>\n",
       "    </tr>\n",
       "    <tr>\n",
       "      <td>7</td>\n",
       "      <td>AMZN</td>\n",
       "      <td>8490.000</td>\n",
       "      <td>465.000</td>\n",
       "    </tr>\n",
       "    <tr>\n",
       "      <td>8</td>\n",
       "      <td>AMZN</td>\n",
       "      <td>10711.000</td>\n",
       "      <td>409.000</td>\n",
       "    </tr>\n",
       "    <tr>\n",
       "      <td>9</td>\n",
       "      <td>AMZN</td>\n",
       "      <td>14835.000</td>\n",
       "      <td>655.000</td>\n",
       "    </tr>\n",
       "    <tr>\n",
       "      <td>10</td>\n",
       "      <td>AMZN</td>\n",
       "      <td>19166.000</td>\n",
       "      <td>789.000</td>\n",
       "    </tr>\n",
       "    <tr>\n",
       "      <td>11</td>\n",
       "      <td>AMZN</td>\n",
       "      <td>24509.000</td>\n",
       "      <td>1183.000</td>\n",
       "    </tr>\n",
       "    <tr>\n",
       "      <td>12</td>\n",
       "      <td>AMZN</td>\n",
       "      <td>34204.000</td>\n",
       "      <td>1407.000</td>\n",
       "    </tr>\n",
       "    <tr>\n",
       "      <td>13</td>\n",
       "      <td>AMZN</td>\n",
       "      <td>48077.000</td>\n",
       "      <td>867.000</td>\n",
       "    </tr>\n",
       "    <tr>\n",
       "      <td>14</td>\n",
       "      <td>AMZN</td>\n",
       "      <td>61093.000</td>\n",
       "      <td>672.000</td>\n",
       "    </tr>\n",
       "    <tr>\n",
       "      <td>15</td>\n",
       "      <td>AMZN</td>\n",
       "      <td>74452.000</td>\n",
       "      <td>691.000</td>\n",
       "    </tr>\n",
       "    <tr>\n",
       "      <td>16</td>\n",
       "      <td>AMZN</td>\n",
       "      <td>88988.000</td>\n",
       "      <td>130.000</td>\n",
       "    </tr>\n",
       "    <tr>\n",
       "      <td>17</td>\n",
       "      <td>AMZN</td>\n",
       "      <td>107006.000</td>\n",
       "      <td>2176.000</td>\n",
       "    </tr>\n",
       "    <tr>\n",
       "      <td>18</td>\n",
       "      <td>AMZN</td>\n",
       "      <td>135987.000</td>\n",
       "      <td>4066.000</td>\n",
       "    </tr>\n",
       "    <tr>\n",
       "      <td>19</td>\n",
       "      <td>AMZN</td>\n",
       "      <td>177866.000</td>\n",
       "      <td>3954.000</td>\n",
       "    </tr>\n",
       "    <tr>\n",
       "      <td>20</td>\n",
       "      <td>AMZN</td>\n",
       "      <td>232887.000</td>\n",
       "      <td>12242.000</td>\n",
       "    </tr>\n",
       "    <tr>\n",
       "      <td>21</td>\n",
       "      <td>AMZN</td>\n",
       "      <td>280522.000</td>\n",
       "      <td>14177.000</td>\n",
       "    </tr>\n",
       "  </tbody>\n",
       "</table>\n",
       "</div>"
      ],
      "text/plain": [
       "    tick     revenue       ebit\n",
       "0   AMZN     609.996   -104.388\n",
       "1   AMZN    1639.839   -597.683\n",
       "2   AMZN    2761.983   -663.569\n",
       "3   AMZN    3122.433   -230.672\n",
       "4   AMZN    3932.936    105.697\n",
       "5   AMZN    5263.699    270.735\n",
       "6   AMZN    6921.124    431.378\n",
       "7   AMZN    8490.000    465.000\n",
       "8   AMZN   10711.000    409.000\n",
       "9   AMZN   14835.000    655.000\n",
       "10  AMZN   19166.000    789.000\n",
       "11  AMZN   24509.000   1183.000\n",
       "12  AMZN   34204.000   1407.000\n",
       "13  AMZN   48077.000    867.000\n",
       "14  AMZN   61093.000    672.000\n",
       "15  AMZN   74452.000    691.000\n",
       "16  AMZN   88988.000    130.000\n",
       "17  AMZN  107006.000   2176.000\n",
       "18  AMZN  135987.000   4066.000\n",
       "19  AMZN  177866.000   3954.000\n",
       "20  AMZN  232887.000  12242.000\n",
       "21  AMZN  280522.000  14177.000"
      ]
     },
     "execution_count": 21,
     "metadata": {},
     "output_type": "execute_result"
    }
   ],
   "source": [
    "# select multiple columns by putting in a list of column names\\\n",
    "cols = df[['tick','revenue','ebit']]\n",
    "cols"
   ]
  },
  {
   "cell_type": "code",
   "execution_count": 22,
   "metadata": {},
   "outputs": [
    {
     "data": {
      "text/plain": [
       "str"
      ]
     },
     "execution_count": 22,
     "metadata": {},
     "output_type": "execute_result"
    }
   ],
   "source": [
    "# display the type of the column you selected\n",
    "type('tick')\n"
   ]
  },
  {
   "cell_type": "markdown",
   "metadata": {},
   "source": [
    "**IV. Creating a New Column of Data**\n",
    "\n",
    "We can create a new column in a dataframe using the assignment operator. Like most programming languages, the assignment operator is just the equal sign: `=`. For example, we might be interested in how Amazon's capital structure changes over time. Therefore, let's create a debt to assets ratio (leverage).\n",
    "\n",
    "Note (1): mathematical operations such as addition (+), subtraction (-), multiplication (*), or division (/) are all element by element operations between the dataframe columns that are referenced.\n",
    "\n",
    "**NOTE: The dataset no longer includes \"assets\" use whatever numeric column you like. Just know that you're note actually looking at leverage.**"
   ]
  },
  {
   "cell_type": "code",
   "execution_count": 23,
   "metadata": {},
   "outputs": [],
   "source": [
    "# create a new column called leverage that is the ratio of debt to assets\n",
    "df['leverage'] = df['debt']/df['revenue']\n"
   ]
  },
  {
   "cell_type": "markdown",
   "metadata": {},
   "source": [
    "Note (2): mathematical operations between scalars and columns operate analogously. For example,\n",
    "```python\n",
    "df['leverage']*100\n",
    "```\n",
    "would multiply every element in the leverage column by 100."
   ]
  },
  {
   "cell_type": "markdown",
   "metadata": {},
   "source": [
    "**Deleting a Variable/Column of Data**"
   ]
  },
  {
   "cell_type": "code",
   "execution_count": 24,
   "metadata": {},
   "outputs": [
    {
     "data": {
      "text/html": [
       "<div>\n",
       "<style scoped>\n",
       "    .dataframe tbody tr th:only-of-type {\n",
       "        vertical-align: middle;\n",
       "    }\n",
       "\n",
       "    .dataframe tbody tr th {\n",
       "        vertical-align: top;\n",
       "    }\n",
       "\n",
       "    .dataframe thead th {\n",
       "        text-align: right;\n",
       "    }\n",
       "</style>\n",
       "<table border=\"1\" class=\"dataframe\">\n",
       "  <thead>\n",
       "    <tr style=\"text-align: right;\">\n",
       "      <th></th>\n",
       "      <th>year</th>\n",
       "      <th>revenue</th>\n",
       "      <th>ebit</th>\n",
       "      <th>capx</th>\n",
       "      <th>debt</th>\n",
       "      <th>mktcap</th>\n",
       "      <th>leverage</th>\n",
       "    </tr>\n",
       "  </thead>\n",
       "  <tbody>\n",
       "    <tr>\n",
       "      <td>0</td>\n",
       "      <td>1998</td>\n",
       "      <td>609.996</td>\n",
       "      <td>-104.388</td>\n",
       "      <td>28.333</td>\n",
       "      <td>348.140</td>\n",
       "      <td>16950.113750</td>\n",
       "      <td>0.570725</td>\n",
       "    </tr>\n",
       "    <tr>\n",
       "      <td>1</td>\n",
       "      <td>1999</td>\n",
       "      <td>1639.839</td>\n",
       "      <td>-597.683</td>\n",
       "      <td>287.055</td>\n",
       "      <td>1466.338</td>\n",
       "      <td>25942.410375</td>\n",
       "      <td>0.894196</td>\n",
       "    </tr>\n",
       "    <tr>\n",
       "      <td>2</td>\n",
       "      <td>2000</td>\n",
       "      <td>2761.983</td>\n",
       "      <td>-663.569</td>\n",
       "      <td>134.758</td>\n",
       "      <td>2127.464</td>\n",
       "      <td>5557.991250</td>\n",
       "      <td>0.770267</td>\n",
       "    </tr>\n",
       "    <tr>\n",
       "      <td>3</td>\n",
       "      <td>2001</td>\n",
       "      <td>3122.433</td>\n",
       "      <td>-230.672</td>\n",
       "      <td>50.321</td>\n",
       "      <td>2156.133</td>\n",
       "      <td>4038.218760</td>\n",
       "      <td>0.690530</td>\n",
       "    </tr>\n",
       "    <tr>\n",
       "      <td>4</td>\n",
       "      <td>2002</td>\n",
       "      <td>3932.936</td>\n",
       "      <td>105.697</td>\n",
       "      <td>39.163</td>\n",
       "      <td>2245.691</td>\n",
       "      <td>7327.544340</td>\n",
       "      <td>0.570996</td>\n",
       "    </tr>\n",
       "    <tr>\n",
       "      <td>5</td>\n",
       "      <td>2003</td>\n",
       "      <td>5263.699</td>\n",
       "      <td>270.735</td>\n",
       "      <td>45.963</td>\n",
       "      <td>1925.373</td>\n",
       "      <td>21224.487480</td>\n",
       "      <td>0.365783</td>\n",
       "    </tr>\n",
       "    <tr>\n",
       "      <td>6</td>\n",
       "      <td>2004</td>\n",
       "      <td>6921.124</td>\n",
       "      <td>431.378</td>\n",
       "      <td>89.133</td>\n",
       "      <td>1847.397</td>\n",
       "      <td>18146.100190</td>\n",
       "      <td>0.266922</td>\n",
       "    </tr>\n",
       "    <tr>\n",
       "      <td>7</td>\n",
       "      <td>2005</td>\n",
       "      <td>8490.000</td>\n",
       "      <td>465.000</td>\n",
       "      <td>204.000</td>\n",
       "      <td>1521.000</td>\n",
       "      <td>19614.400000</td>\n",
       "      <td>0.179152</td>\n",
       "    </tr>\n",
       "    <tr>\n",
       "      <td>8</td>\n",
       "      <td>2006</td>\n",
       "      <td>10711.000</td>\n",
       "      <td>409.000</td>\n",
       "      <td>216.000</td>\n",
       "      <td>1267.000</td>\n",
       "      <td>16336.440000</td>\n",
       "      <td>0.118290</td>\n",
       "    </tr>\n",
       "    <tr>\n",
       "      <td>9</td>\n",
       "      <td>2007</td>\n",
       "      <td>14835.000</td>\n",
       "      <td>655.000</td>\n",
       "      <td>224.000</td>\n",
       "      <td>1344.000</td>\n",
       "      <td>38538.240000</td>\n",
       "      <td>0.090597</td>\n",
       "    </tr>\n",
       "    <tr>\n",
       "      <td>10</td>\n",
       "      <td>2008</td>\n",
       "      <td>19166.000</td>\n",
       "      <td>789.000</td>\n",
       "      <td>333.000</td>\n",
       "      <td>533.000</td>\n",
       "      <td>21947.840000</td>\n",
       "      <td>0.027810</td>\n",
       "    </tr>\n",
       "    <tr>\n",
       "      <td>11</td>\n",
       "      <td>2009</td>\n",
       "      <td>24509.000</td>\n",
       "      <td>1183.000</td>\n",
       "      <td>373.000</td>\n",
       "      <td>252.000</td>\n",
       "      <td>59726.880000</td>\n",
       "      <td>0.010282</td>\n",
       "    </tr>\n",
       "    <tr>\n",
       "      <td>12</td>\n",
       "      <td>2010</td>\n",
       "      <td>34204.000</td>\n",
       "      <td>1407.000</td>\n",
       "      <td>979.000</td>\n",
       "      <td>641.000</td>\n",
       "      <td>81180.000000</td>\n",
       "      <td>0.018740</td>\n",
       "    </tr>\n",
       "    <tr>\n",
       "      <td>13</td>\n",
       "      <td>2011</td>\n",
       "      <td>48077.000</td>\n",
       "      <td>867.000</td>\n",
       "      <td>1811.000</td>\n",
       "      <td>1415.000</td>\n",
       "      <td>78760.504550</td>\n",
       "      <td>0.029432</td>\n",
       "    </tr>\n",
       "    <tr>\n",
       "      <td>14</td>\n",
       "      <td>2012</td>\n",
       "      <td>61093.000</td>\n",
       "      <td>672.000</td>\n",
       "      <td>3785.000</td>\n",
       "      <td>3830.000</td>\n",
       "      <td>113894.980000</td>\n",
       "      <td>0.062691</td>\n",
       "    </tr>\n",
       "    <tr>\n",
       "      <td>15</td>\n",
       "      <td>2013</td>\n",
       "      <td>74452.000</td>\n",
       "      <td>691.000</td>\n",
       "      <td>3444.000</td>\n",
       "      <td>5181.000</td>\n",
       "      <td>183044.614590</td>\n",
       "      <td>0.069588</td>\n",
       "    </tr>\n",
       "    <tr>\n",
       "      <td>16</td>\n",
       "      <td>2014</td>\n",
       "      <td>88988.000</td>\n",
       "      <td>130.000</td>\n",
       "      <td>4893.000</td>\n",
       "      <td>12489.000</td>\n",
       "      <td>144121.579044</td>\n",
       "      <td>0.140345</td>\n",
       "    </tr>\n",
       "    <tr>\n",
       "      <td>17</td>\n",
       "      <td>2015</td>\n",
       "      <td>107006.000</td>\n",
       "      <td>2176.000</td>\n",
       "      <td>4589.000</td>\n",
       "      <td>14183.000</td>\n",
       "      <td>318344.194710</td>\n",
       "      <td>0.132544</td>\n",
       "    </tr>\n",
       "    <tr>\n",
       "      <td>18</td>\n",
       "      <td>2016</td>\n",
       "      <td>135987.000</td>\n",
       "      <td>4066.000</td>\n",
       "      <td>6737.000</td>\n",
       "      <td>15213.000</td>\n",
       "      <td>357687.990000</td>\n",
       "      <td>0.111871</td>\n",
       "    </tr>\n",
       "    <tr>\n",
       "      <td>19</td>\n",
       "      <td>2017</td>\n",
       "      <td>177866.000</td>\n",
       "      <td>3954.000</td>\n",
       "      <td>11955.000</td>\n",
       "      <td>37926.000</td>\n",
       "      <td>563534.833384</td>\n",
       "      <td>0.213228</td>\n",
       "    </tr>\n",
       "    <tr>\n",
       "      <td>20</td>\n",
       "      <td>2018</td>\n",
       "      <td>232887.000</td>\n",
       "      <td>12242.000</td>\n",
       "      <td>13427.000</td>\n",
       "      <td>39787.000</td>\n",
       "      <td>734416.754261</td>\n",
       "      <td>0.170843</td>\n",
       "    </tr>\n",
       "    <tr>\n",
       "      <td>21</td>\n",
       "      <td>2019</td>\n",
       "      <td>280522.000</td>\n",
       "      <td>14177.000</td>\n",
       "      <td>16861.000</td>\n",
       "      <td>63205.000</td>\n",
       "      <td>920224.305060</td>\n",
       "      <td>0.225312</td>\n",
       "    </tr>\n",
       "  </tbody>\n",
       "</table>\n",
       "</div>"
      ],
      "text/plain": [
       "    year     revenue       ebit       capx       debt         mktcap  leverage\n",
       "0   1998     609.996   -104.388     28.333    348.140   16950.113750  0.570725\n",
       "1   1999    1639.839   -597.683    287.055   1466.338   25942.410375  0.894196\n",
       "2   2000    2761.983   -663.569    134.758   2127.464    5557.991250  0.770267\n",
       "3   2001    3122.433   -230.672     50.321   2156.133    4038.218760  0.690530\n",
       "4   2002    3932.936    105.697     39.163   2245.691    7327.544340  0.570996\n",
       "5   2003    5263.699    270.735     45.963   1925.373   21224.487480  0.365783\n",
       "6   2004    6921.124    431.378     89.133   1847.397   18146.100190  0.266922\n",
       "7   2005    8490.000    465.000    204.000   1521.000   19614.400000  0.179152\n",
       "8   2006   10711.000    409.000    216.000   1267.000   16336.440000  0.118290\n",
       "9   2007   14835.000    655.000    224.000   1344.000   38538.240000  0.090597\n",
       "10  2008   19166.000    789.000    333.000    533.000   21947.840000  0.027810\n",
       "11  2009   24509.000   1183.000    373.000    252.000   59726.880000  0.010282\n",
       "12  2010   34204.000   1407.000    979.000    641.000   81180.000000  0.018740\n",
       "13  2011   48077.000    867.000   1811.000   1415.000   78760.504550  0.029432\n",
       "14  2012   61093.000    672.000   3785.000   3830.000  113894.980000  0.062691\n",
       "15  2013   74452.000    691.000   3444.000   5181.000  183044.614590  0.069588\n",
       "16  2014   88988.000    130.000   4893.000  12489.000  144121.579044  0.140345\n",
       "17  2015  107006.000   2176.000   4589.000  14183.000  318344.194710  0.132544\n",
       "18  2016  135987.000   4066.000   6737.000  15213.000  357687.990000  0.111871\n",
       "19  2017  177866.000   3954.000  11955.000  37926.000  563534.833384  0.213228\n",
       "20  2018  232887.000  12242.000  13427.000  39787.000  734416.754261  0.170843\n",
       "21  2019  280522.000  14177.000  16861.000  63205.000  920224.305060  0.225312"
      ]
     },
     "execution_count": 24,
     "metadata": {},
     "output_type": "execute_result"
    }
   ],
   "source": [
    "# delete the tick column with the drop method\n",
    "df.drop(columns = ['tick'])"
   ]
  },
  {
   "cell_type": "markdown",
   "metadata": {},
   "source": [
    "Not the above command (`drop`), created a new `dataframe` with the `tick` column removed. Most `pandas` commands with operate this way. To modify the original `dataframe` df we have to assign the `dataframe` created by the drop command to `df`. Many dataframe methods have the argument inplace that you can set to `True` to overwrite the old dataframe with the new one:"
   ]
  },
  {
   "cell_type": "code",
   "execution_count": 25,
   "metadata": {},
   "outputs": [
    {
     "data": {
      "text/html": [
       "<div>\n",
       "<style scoped>\n",
       "    .dataframe tbody tr th:only-of-type {\n",
       "        vertical-align: middle;\n",
       "    }\n",
       "\n",
       "    .dataframe tbody tr th {\n",
       "        vertical-align: top;\n",
       "    }\n",
       "\n",
       "    .dataframe thead th {\n",
       "        text-align: right;\n",
       "    }\n",
       "</style>\n",
       "<table border=\"1\" class=\"dataframe\">\n",
       "  <thead>\n",
       "    <tr style=\"text-align: right;\">\n",
       "      <th></th>\n",
       "      <th>year</th>\n",
       "      <th>revenue</th>\n",
       "      <th>ebit</th>\n",
       "      <th>capx</th>\n",
       "      <th>debt</th>\n",
       "      <th>mktcap</th>\n",
       "      <th>leverage</th>\n",
       "    </tr>\n",
       "  </thead>\n",
       "  <tbody>\n",
       "    <tr>\n",
       "      <td>0</td>\n",
       "      <td>1998</td>\n",
       "      <td>609.996</td>\n",
       "      <td>-104.388</td>\n",
       "      <td>28.333</td>\n",
       "      <td>348.140</td>\n",
       "      <td>16950.113750</td>\n",
       "      <td>0.570725</td>\n",
       "    </tr>\n",
       "    <tr>\n",
       "      <td>1</td>\n",
       "      <td>1999</td>\n",
       "      <td>1639.839</td>\n",
       "      <td>-597.683</td>\n",
       "      <td>287.055</td>\n",
       "      <td>1466.338</td>\n",
       "      <td>25942.410375</td>\n",
       "      <td>0.894196</td>\n",
       "    </tr>\n",
       "    <tr>\n",
       "      <td>2</td>\n",
       "      <td>2000</td>\n",
       "      <td>2761.983</td>\n",
       "      <td>-663.569</td>\n",
       "      <td>134.758</td>\n",
       "      <td>2127.464</td>\n",
       "      <td>5557.991250</td>\n",
       "      <td>0.770267</td>\n",
       "    </tr>\n",
       "    <tr>\n",
       "      <td>3</td>\n",
       "      <td>2001</td>\n",
       "      <td>3122.433</td>\n",
       "      <td>-230.672</td>\n",
       "      <td>50.321</td>\n",
       "      <td>2156.133</td>\n",
       "      <td>4038.218760</td>\n",
       "      <td>0.690530</td>\n",
       "    </tr>\n",
       "    <tr>\n",
       "      <td>4</td>\n",
       "      <td>2002</td>\n",
       "      <td>3932.936</td>\n",
       "      <td>105.697</td>\n",
       "      <td>39.163</td>\n",
       "      <td>2245.691</td>\n",
       "      <td>7327.544340</td>\n",
       "      <td>0.570996</td>\n",
       "    </tr>\n",
       "    <tr>\n",
       "      <td>5</td>\n",
       "      <td>2003</td>\n",
       "      <td>5263.699</td>\n",
       "      <td>270.735</td>\n",
       "      <td>45.963</td>\n",
       "      <td>1925.373</td>\n",
       "      <td>21224.487480</td>\n",
       "      <td>0.365783</td>\n",
       "    </tr>\n",
       "    <tr>\n",
       "      <td>6</td>\n",
       "      <td>2004</td>\n",
       "      <td>6921.124</td>\n",
       "      <td>431.378</td>\n",
       "      <td>89.133</td>\n",
       "      <td>1847.397</td>\n",
       "      <td>18146.100190</td>\n",
       "      <td>0.266922</td>\n",
       "    </tr>\n",
       "    <tr>\n",
       "      <td>7</td>\n",
       "      <td>2005</td>\n",
       "      <td>8490.000</td>\n",
       "      <td>465.000</td>\n",
       "      <td>204.000</td>\n",
       "      <td>1521.000</td>\n",
       "      <td>19614.400000</td>\n",
       "      <td>0.179152</td>\n",
       "    </tr>\n",
       "    <tr>\n",
       "      <td>8</td>\n",
       "      <td>2006</td>\n",
       "      <td>10711.000</td>\n",
       "      <td>409.000</td>\n",
       "      <td>216.000</td>\n",
       "      <td>1267.000</td>\n",
       "      <td>16336.440000</td>\n",
       "      <td>0.118290</td>\n",
       "    </tr>\n",
       "    <tr>\n",
       "      <td>9</td>\n",
       "      <td>2007</td>\n",
       "      <td>14835.000</td>\n",
       "      <td>655.000</td>\n",
       "      <td>224.000</td>\n",
       "      <td>1344.000</td>\n",
       "      <td>38538.240000</td>\n",
       "      <td>0.090597</td>\n",
       "    </tr>\n",
       "    <tr>\n",
       "      <td>10</td>\n",
       "      <td>2008</td>\n",
       "      <td>19166.000</td>\n",
       "      <td>789.000</td>\n",
       "      <td>333.000</td>\n",
       "      <td>533.000</td>\n",
       "      <td>21947.840000</td>\n",
       "      <td>0.027810</td>\n",
       "    </tr>\n",
       "    <tr>\n",
       "      <td>11</td>\n",
       "      <td>2009</td>\n",
       "      <td>24509.000</td>\n",
       "      <td>1183.000</td>\n",
       "      <td>373.000</td>\n",
       "      <td>252.000</td>\n",
       "      <td>59726.880000</td>\n",
       "      <td>0.010282</td>\n",
       "    </tr>\n",
       "    <tr>\n",
       "      <td>12</td>\n",
       "      <td>2010</td>\n",
       "      <td>34204.000</td>\n",
       "      <td>1407.000</td>\n",
       "      <td>979.000</td>\n",
       "      <td>641.000</td>\n",
       "      <td>81180.000000</td>\n",
       "      <td>0.018740</td>\n",
       "    </tr>\n",
       "    <tr>\n",
       "      <td>13</td>\n",
       "      <td>2011</td>\n",
       "      <td>48077.000</td>\n",
       "      <td>867.000</td>\n",
       "      <td>1811.000</td>\n",
       "      <td>1415.000</td>\n",
       "      <td>78760.504550</td>\n",
       "      <td>0.029432</td>\n",
       "    </tr>\n",
       "    <tr>\n",
       "      <td>14</td>\n",
       "      <td>2012</td>\n",
       "      <td>61093.000</td>\n",
       "      <td>672.000</td>\n",
       "      <td>3785.000</td>\n",
       "      <td>3830.000</td>\n",
       "      <td>113894.980000</td>\n",
       "      <td>0.062691</td>\n",
       "    </tr>\n",
       "    <tr>\n",
       "      <td>15</td>\n",
       "      <td>2013</td>\n",
       "      <td>74452.000</td>\n",
       "      <td>691.000</td>\n",
       "      <td>3444.000</td>\n",
       "      <td>5181.000</td>\n",
       "      <td>183044.614590</td>\n",
       "      <td>0.069588</td>\n",
       "    </tr>\n",
       "    <tr>\n",
       "      <td>16</td>\n",
       "      <td>2014</td>\n",
       "      <td>88988.000</td>\n",
       "      <td>130.000</td>\n",
       "      <td>4893.000</td>\n",
       "      <td>12489.000</td>\n",
       "      <td>144121.579044</td>\n",
       "      <td>0.140345</td>\n",
       "    </tr>\n",
       "    <tr>\n",
       "      <td>17</td>\n",
       "      <td>2015</td>\n",
       "      <td>107006.000</td>\n",
       "      <td>2176.000</td>\n",
       "      <td>4589.000</td>\n",
       "      <td>14183.000</td>\n",
       "      <td>318344.194710</td>\n",
       "      <td>0.132544</td>\n",
       "    </tr>\n",
       "    <tr>\n",
       "      <td>18</td>\n",
       "      <td>2016</td>\n",
       "      <td>135987.000</td>\n",
       "      <td>4066.000</td>\n",
       "      <td>6737.000</td>\n",
       "      <td>15213.000</td>\n",
       "      <td>357687.990000</td>\n",
       "      <td>0.111871</td>\n",
       "    </tr>\n",
       "    <tr>\n",
       "      <td>19</td>\n",
       "      <td>2017</td>\n",
       "      <td>177866.000</td>\n",
       "      <td>3954.000</td>\n",
       "      <td>11955.000</td>\n",
       "      <td>37926.000</td>\n",
       "      <td>563534.833384</td>\n",
       "      <td>0.213228</td>\n",
       "    </tr>\n",
       "    <tr>\n",
       "      <td>20</td>\n",
       "      <td>2018</td>\n",
       "      <td>232887.000</td>\n",
       "      <td>12242.000</td>\n",
       "      <td>13427.000</td>\n",
       "      <td>39787.000</td>\n",
       "      <td>734416.754261</td>\n",
       "      <td>0.170843</td>\n",
       "    </tr>\n",
       "    <tr>\n",
       "      <td>21</td>\n",
       "      <td>2019</td>\n",
       "      <td>280522.000</td>\n",
       "      <td>14177.000</td>\n",
       "      <td>16861.000</td>\n",
       "      <td>63205.000</td>\n",
       "      <td>920224.305060</td>\n",
       "      <td>0.225312</td>\n",
       "    </tr>\n",
       "  </tbody>\n",
       "</table>\n",
       "</div>"
      ],
      "text/plain": [
       "    year     revenue       ebit       capx       debt         mktcap  leverage\n",
       "0   1998     609.996   -104.388     28.333    348.140   16950.113750  0.570725\n",
       "1   1999    1639.839   -597.683    287.055   1466.338   25942.410375  0.894196\n",
       "2   2000    2761.983   -663.569    134.758   2127.464    5557.991250  0.770267\n",
       "3   2001    3122.433   -230.672     50.321   2156.133    4038.218760  0.690530\n",
       "4   2002    3932.936    105.697     39.163   2245.691    7327.544340  0.570996\n",
       "5   2003    5263.699    270.735     45.963   1925.373   21224.487480  0.365783\n",
       "6   2004    6921.124    431.378     89.133   1847.397   18146.100190  0.266922\n",
       "7   2005    8490.000    465.000    204.000   1521.000   19614.400000  0.179152\n",
       "8   2006   10711.000    409.000    216.000   1267.000   16336.440000  0.118290\n",
       "9   2007   14835.000    655.000    224.000   1344.000   38538.240000  0.090597\n",
       "10  2008   19166.000    789.000    333.000    533.000   21947.840000  0.027810\n",
       "11  2009   24509.000   1183.000    373.000    252.000   59726.880000  0.010282\n",
       "12  2010   34204.000   1407.000    979.000    641.000   81180.000000  0.018740\n",
       "13  2011   48077.000    867.000   1811.000   1415.000   78760.504550  0.029432\n",
       "14  2012   61093.000    672.000   3785.000   3830.000  113894.980000  0.062691\n",
       "15  2013   74452.000    691.000   3444.000   5181.000  183044.614590  0.069588\n",
       "16  2014   88988.000    130.000   4893.000  12489.000  144121.579044  0.140345\n",
       "17  2015  107006.000   2176.000   4589.000  14183.000  318344.194710  0.132544\n",
       "18  2016  135987.000   4066.000   6737.000  15213.000  357687.990000  0.111871\n",
       "19  2017  177866.000   3954.000  11955.000  37926.000  563534.833384  0.213228\n",
       "20  2018  232887.000  12242.000  13427.000  39787.000  734416.754261  0.170843\n",
       "21  2019  280522.000  14177.000  16861.000  63205.000  920224.305060  0.225312"
      ]
     },
     "execution_count": 25,
     "metadata": {},
     "output_type": "execute_result"
    }
   ],
   "source": [
    "# save the new dataframe with the dropped column using one of the methods described above\n",
    "df = df.drop(columns = ['tick'])\n",
    "df\n"
   ]
  },
  {
   "cell_type": "markdown",
   "metadata": {},
   "source": [
    "**V. Power of Pandas**\n",
    "\n",
    "To show off how the high level nature of `Pandas` (how much you can accomplish with a few commands), let's create some plots.\n",
    "\n",
    "a) First, a simple plot of sales/revenue as a function of year"
   ]
  },
  {
   "cell_type": "code",
   "execution_count": 26,
   "metadata": {},
   "outputs": [
    {
     "data": {
      "text/plain": [
       "<matplotlib.axes._subplots.AxesSubplot at 0x21a631497f0>"
      ]
     },
     "execution_count": 26,
     "metadata": {},
     "output_type": "execute_result"
    },
    {
     "data": {
      "image/png": "[encoded data removed]",
      "text/plain": [
       "<Figure size 432x288 with 1 Axes>"
      ]
     },
     "metadata": {
      "needs_background": "light"
     },
     "output_type": "display_data"
    }
   ],
   "source": [
    "%matplotlib inline\n",
    "df.plot(y='revenue',x='year')"
   ]
  },
  {
   "cell_type": "markdown",
   "metadata": {},
   "source": [
    "Note, how the plotting function is called; we call it using the `.` operator:\n",
    "```\n",
    "df.plot(y='revenue',x='year')\n",
    "```\n",
    "The `.plot()` function is part of any dataframe; plotting is one of the dataframe object's attributes or to talk like a programmer, it's one of the object's methods.\n",
    "\n",
    "Back to plotting\n",
    "\n",
    "b) Let's still do revenue as a function of year but as a bar barplot."
   ]
  },
  {
   "cell_type": "code",
   "execution_count": 27,
   "metadata": {},
   "outputs": [
    {
     "data": {
      "text/plain": [
       "<matplotlib.axes._subplots.AxesSubplot at 0x21a630a2438>"
      ]
     },
     "execution_count": 27,
     "metadata": {},
     "output_type": "execute_result"
    },
    {
     "data": {
      "image/png": "[encoded data removed]",
      "text/plain": [
       "<Figure size 432x288 with 1 Axes>"
      ]
     },
     "metadata": {
      "needs_background": "light"
     },
     "output_type": "display_data"
    }
   ],
   "source": [
    "# create a barplot of revenue on year\n",
    "\n",
    "df.plot.bar(y='revenue',x='year')"
   ]
  },
  {
   "cell_type": "markdown",
   "metadata": {},
   "source": [
    "c) Next, a plot of EBIT as a function of year as a barplot with a title"
   ]
  },
  {
   "cell_type": "code",
   "execution_count": 28,
   "metadata": {},
   "outputs": [
    {
     "data": {
      "text/plain": [
       "<matplotlib.axes._subplots.AxesSubplot at 0x21a631d2fd0>"
      ]
     },
     "execution_count": 28,
     "metadata": {},
     "output_type": "execute_result"
    },
    {
     "data": {
      "image/png": "[encoded data removed]",
      "text/plain": [
       "<Figure size 432x288 with 1 Axes>"
      ]
     },
     "metadata": {
      "needs_background": "light"
     },
     "output_type": "display_data"
    }
   ],
   "source": [
    "# these are just some examples of things you can do\n",
    "df.plot.bar(y='ebit',x='year',title=\"Amazon's Earnings\",color='darkblue')"
   ]
  },
  {
   "cell_type": "markdown",
   "metadata": {},
   "source": [
    "d) Finally, let's look at Amazon's leverage over time"
   ]
  },
  {
   "cell_type": "code",
   "execution_count": 29,
   "metadata": {},
   "outputs": [
    {
     "data": {
      "text/plain": [
       "<matplotlib.axes._subplots.AxesSubplot at 0x21a631a5b38>"
      ]
     },
     "execution_count": 29,
     "metadata": {},
     "output_type": "execute_result"
    },
    {
     "data": {
      "image/png": "[encoded data removed]",
      "text/plain": [
       "<Figure size 432x288 with 1 Axes>"
      ]
     },
     "metadata": {
      "needs_background": "light"
     },
     "output_type": "display_data"
    }
   ],
   "source": [
    "df.plot.bar(y='leverage',x='year',title=\"Pecking Order or Static Trade-Off?\",color='darkred')"
   ]
  },
  {
   "cell_type": "code",
   "execution_count": 30,
   "metadata": {},
   "outputs": [
    {
     "data": {
      "text/plain": [
       "<matplotlib.axes._subplots.AxesSubplot at 0x21a632855c0>"
      ]
     },
     "execution_count": 30,
     "metadata": {},
     "output_type": "execute_result"
    },
    {
     "data": {
      "image/png": "[encoded data removed]",
      "text/plain": [
       "<Figure size 432x288 with 1 Axes>"
      ]
     },
     "metadata": {
      "needs_background": "light"
     },
     "output_type": "display_data"
    }
   ],
   "source": [
    "df.plot.bar(y='mktcap',x='year',color='darkred')"
   ]
  },
  {
   "cell_type": "code",
   "execution_count": null,
   "metadata": {},
   "outputs": [],
   "source": []
  }
 ],
 "metadata": {
  "kernelspec": {
   "display_name": "Python 3",
   "language": "python",
   "name": "python3"
  },
  "language_info": {
   "codemirror_mode": {
    "name": "ipython",
    "version": 3
   },
   "file_extension": ".py",
   "mimetype": "text/x-python",
   "name": "python",
   "nbconvert_exporter": "python",
   "pygments_lexer": "ipython3",
   "version": "3.6.9"
  }
 },
 "nbformat": 4,
 "nbformat_minor": 2
}
